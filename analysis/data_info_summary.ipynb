{
 "cells": [
  {
   "cell_type": "markdown",
   "metadata": {},
   "source": [
    "Make sure to do \"gunzip -c file.json > file.json\" to convert into a proper and usable format."
   ]
  },
  {
   "cell_type": "code",
   "execution_count": 186,
   "metadata": {},
   "outputs": [],
   "source": [
    "import ujson"
   ]
  },
  {
   "cell_type": "code",
   "execution_count": 187,
   "metadata": {},
   "outputs": [],
   "source": [
    "def get_tweet_info(data_obj):\n",
    "    try:\n",
    "        name = data_obj[1][\"result\"][0][\"user\"][\"name\"]\n",
    "    except:\n",
    "        name = ''\n",
    "    \n",
    "    try:\n",
    "        text = data_obj[1][\"result\"][0][\"full_text\"]\n",
    "    except: \n",
    "        text = ''\n",
    "    \n",
    "    try:\n",
    "        likes = data_obj[1][\"result\"][0][\"user\"][\"favourites_count\"]\n",
    "    except:\n",
    "        likes = 0\n",
    "    \n",
    "    try:\n",
    "        hashtags_list = data_obj[1][\"result\"][0][\"entities\"][\"hashtags\"]\n",
    "        hashtags = set()\n",
    "        for obj in hashtags_list:\n",
    "            hashtags.add(obj['text'])\n",
    "    except:\n",
    "        hashtags = set()\n",
    "    \n",
    "    try:\n",
    "        date = data_obj[1][\"result\"][0][\"created_at\"]\n",
    "    except:\n",
    "        date = ''\n",
    "        \n",
    "    return [name, text, likes, hashtags, date]"
   ]
  },
  {
   "cell_type": "code",
   "execution_count": 188,
   "metadata": {},
   "outputs": [],
   "source": [
    "def get_information(file):\n",
    "    objects = list()\n",
    "    count = 0\n",
    "    for i, line in enumerate(file):\n",
    "        tweet_data = ujson.loads(line)\n",
    "        tweet = get_tweet_info(tweet_data).copy()\n",
    "        if tweet[1] == '':\n",
    "            pass\n",
    "        else:\n",
    "            objects.append(tweet)\n",
    "            count += 1\n",
    "    return objects"
   ]
  },
  {
   "cell_type": "code",
   "execution_count": 189,
   "metadata": {},
   "outputs": [],
   "source": [
    "def all_hashtags(tweet_objects):\n",
    "    hashtags = set()\n",
    "    for obj in tweet_objects:\n",
    "        hashtags.update(obj[3])\n",
    "    return hashtags"
   ]
  },
  {
   "cell_type": "code",
   "execution_count": 190,
   "metadata": {},
   "outputs": [],
   "source": [
    "def hashtag_freq(file):\n",
    "    hash_dict = {}\n",
    "    for i, line in enumerate(file):\n",
    "        tweet_data = ujson.loads(line)\n",
    "        try:\n",
    "            hashtags_list = tweet_data[1][\"result\"][0][\"entities\"][\"hashtags\"]\n",
    "            for obj in hashtags_list:\n",
    "                if obj['text'] in hash_dict.keys():\n",
    "                    hash_dict[obj['text']] += 1\n",
    "                else:\n",
    "                    hash_dict[obj['text']] = 1\n",
    "        except:\n",
    "            pass\n",
    "    return hash_dict"
   ]
  },
  {
   "cell_type": "code",
   "execution_count": 191,
   "metadata": {},
   "outputs": [],
   "source": [
    "def count_tweets(tweet_objects):\n",
    "    count = 0\n",
    "    for obj in tweet_objects:\n",
    "        if obj[1] == '':\n",
    "            pass\n",
    "        else:\n",
    "            count += 1\n",
    "    return count"
   ]
  },
  {
   "cell_type": "code",
   "execution_count": 192,
   "metadata": {},
   "outputs": [],
   "source": [
    "def count_users(tweet_objects):\n",
    "    users = set()\n",
    "    for obj in tweet_objects:\n",
    "        if obj[0] == '':\n",
    "            pass\n",
    "        else:\n",
    "            users.add(obj[0])\n",
    "    return len(users)"
   ]
  },
  {
   "cell_type": "code",
   "execution_count": 193,
   "metadata": {},
   "outputs": [],
   "source": [
    "def count_hashtags(tweet_objects):\n",
    "    return len(all_hashtags(tweet_objects))"
   ]
  },
  {
   "cell_type": "code",
   "execution_count": 194,
   "metadata": {},
   "outputs": [],
   "source": [
    "def count_tweets_without_hashtags(tweet_objects):\n",
    "    count = 0\n",
    "    for obj in tweet_objects:\n",
    "        if obj[3] == set():\n",
    "            count += 1\n",
    "    return count"
   ]
  },
  {
   "cell_type": "code",
   "execution_count": 195,
   "metadata": {},
   "outputs": [],
   "source": [
    "def date_range(tweet_objects):\n",
    "    month = {'Jan': '01', 'Feb': '02', 'Mar': '03', 'Apr': '04', 'May': '05', 'Jun': '06', 'Jul': '07', 'Aug': '08', 'Sep': '09', 'Oct': '10', 'Nov': '11', 'Dec': '12'}\n",
    "    earliest = [3000, 12, 31]\n",
    "    latest = [1900, 1, 1]\n",
    "    for obj in tweet_objects:\n",
    "        created_at = obj[4].split(\" \")\n",
    "        date = [int(created_at[5]), int(month[created_at[1]]), int(created_at[2])]\n",
    "        \n",
    "        #earlier\n",
    "        if (earliest[0] > date[0]):\n",
    "            earliest = date.copy()\n",
    "        elif (earliest[0] == date[0]):\n",
    "            if (earliest[1] > date[1]):\n",
    "                earliest = date.copy()\n",
    "            elif (earliest[1] == date[1]):\n",
    "                if (earliest[2] > date[2]):\n",
    "                    earliest = date.copy()\n",
    "        \n",
    "        #latest\n",
    "        if (latest[0] < date[0]):\n",
    "            latest = date.copy()\n",
    "        elif (latest[0] == date[0]):\n",
    "            if (latest[1] < date[1]):\n",
    "                latest = date.copy()\n",
    "            elif (latest[1] == date[1]):\n",
    "                if (latest[2] < date[2]):\n",
    "                    latest = date.copy()\n",
    "    return [earliest, latest]"
   ]
  },
  {
   "cell_type": "code",
   "execution_count": null,
   "metadata": {},
   "outputs": [],
   "source": [
    "file = open(\"/Users/sgupta/Desktop/MIT/Research/LSM/datasets/atlanta-tweets/data_3.json\") \n",
    "tweet_objects = get_information(file)\n",
    "\n",
    "#count\n",
    "tweet_count = count_tweets(tweet_objects)\n",
    "print('Tweets:', tweet_count)\n",
    "user_count = count_users(tweet_objects)\n",
    "print('Users:', user_count)\n",
    "# hashtags_count = count_hashtags(tweet_objects)\n",
    "hashtags = all_hashtags(tweet_objects)\n",
    "print('Unique Hashtags:', len(hashtags))\n",
    "no_hashtags_count = count_tweets_without_hashtags(tweet_objects)\n",
    "print('Tweets without Hashtags:', no_hashtags_count)\n",
    "range = date_range(tweet_objects)\n",
    "early = str(range[0][1]) + '-' + str(range[0][2]) + '-' + str(range[0][0])\n",
    "late = str(range[1][1]) + '-' + str(range[1][2]) + '-' + str(range[1][0])\n",
    "print('Date Range:', early, 'to', late)\n",
    "\n",
    "hashtags = all_hashtags(tweet_objects)\n",
    "print('All Hashtags:')\n",
    "print(hashtags)"
   ]
  },
  {
   "cell_type": "code",
   "execution_count": null,
   "metadata": {},
   "outputs": [],
   "source": [
    "#hashtags\n",
    "file = open(\"/Users/sgupta/Desktop/MIT/Research/LSM/datasets/atlanta-tweets/data_3.json\") \n",
    "frequency = hashtag_freq(file)\n",
    "print(\"Frequency of Hashtags:\")\n",
    "print(frequency)"
   ]
  },
  {
   "cell_type": "code",
   "execution_count": null,
   "metadata": {},
   "outputs": [],
   "source": [
    "file = open(\"/Users/sgupta/Desktop/MIT/Research/LSM/datasets/atlanta-tweets/data_3.json\") \n",
    "for i, line in enumerate(file):\n",
    "    tweet_data = ujson.loads(line)\n",
    "    json_formatted_str = ujson.dumps(tweet_data, indent=4)\n",
    "    if i == 2:\n",
    "        print(json_formatted_str)\n",
    "        break"
   ]
  },
  {
   "cell_type": "code",
   "execution_count": null,
   "metadata": {},
   "outputs": [],
   "source": []
  }
 ],
 "metadata": {
  "kernelspec": {
   "display_name": "Python 3",
   "language": "python",
   "name": "python3"
  },
  "language_info": {
   "codemirror_mode": {
    "name": "ipython",
    "version": 3
   },
   "file_extension": ".py",
   "mimetype": "text/x-python",
   "name": "python",
   "nbconvert_exporter": "python",
   "pygments_lexer": "ipython3",
   "version": "3.8.5"
  }
 },
 "nbformat": 4,
 "nbformat_minor": 4
}
