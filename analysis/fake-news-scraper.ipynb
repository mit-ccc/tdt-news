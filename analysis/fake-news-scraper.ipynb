{
 "cells": [
  {
   "cell_type": "markdown",
   "metadata": {},
   "source": [
    "You need to install beautifulsoup4, requests, urllib \n",
    "- \"pip install beautifulsoup4\"\n",
    "- \"pip install requests\"\n",
    "- \"pip install urllib\""
   ]
  },
  {
   "cell_type": "code",
   "execution_count": 64,
   "metadata": {},
   "outputs": [],
   "source": [
    "from bs4 import BeautifulSoup\n",
    "import urllib.request,sys,time\n",
    "from urllib.request import Request, urlopen\n",
    "import requests\n",
    "import pandas as pd\n",
    "import csv"
   ]
  },
  {
   "cell_type": "code",
   "execution_count": 65,
   "metadata": {},
   "outputs": [],
   "source": [
    "def get_html(url):\n",
    "    try:\n",
    "        req = Request(url, headers = {'User-Agent': 'Mozilla/5.0'})\n",
    "        webpage = urlopen(req).read()\n",
    "        page_soup = BeautifulSoup(webpage, \"html.parser\")\n",
    "    except:\n",
    "        print(\"Error with parsing:\", url)\n",
    "    \n",
    "    return page_soup"
   ]
  },
  {
   "cell_type": "code",
   "execution_count": 66,
   "metadata": {},
   "outputs": [],
   "source": [
    "def get_pages(url):\n",
    "    page_links = []\n",
    "    for i in range(1, 810):\n",
    "        page_links.append(url + 'page/' + str(i) + '/')\n",
    "    return page_links"
   ]
  },
  {
   "cell_type": "code",
   "execution_count": 67,
   "metadata": {},
   "outputs": [],
   "source": [
    "def get_article_page_links(url):\n",
    "    links = set()\n",
    "    try:\n",
    "        page_html = get_html(url)\n",
    "        articles = page_html.findAll(\"article\")\n",
    "    except:\n",
    "        print(\"Error with parsing:\", url)\n",
    "        return []\n",
    "    for article in articles:\n",
    "        try:\n",
    "            for link in article.select(\"a\"):\n",
    "                links.add(link['href'])\n",
    "        except:\n",
    "            continue\n",
    "    return links"
   ]
  },
  {
   "cell_type": "code",
   "execution_count": 68,
   "metadata": {},
   "outputs": [],
   "source": [
    "def get_true_false_info(url):\n",
    "    false_phrase = ''\n",
    "    true_phrase = ''\n",
    "    count = 1\n",
    "    country = ''\n",
    "    article_true_link = ''\n",
    "    \n",
    "    try:\n",
    "        page_soup = get_html(url)\n",
    "        false = page_soup.findAll(\"h1\", {\"class\": \"entry-title\"})\n",
    "        true = page_soup.findAll(\"p\", {\"class\": \"entry-content__text entry-content__text--explanation\"})\n",
    "        article_true_link = page_soup.find(\"a\", {\"class\": \"button entry-content__button entry-content__button--smaller\"}).get('href')\n",
    "        date = str(page_soup.find(\"p\", {\"class\": \"entry-content__text entry-content__text--topinfo\"}))[68:78]\n",
    "        country = page_soup.find(\"p\", {\"class\": \"entry-content__text entry-content__text--topinfo\"}).getText()[13:]\n",
    "    except:\n",
    "        print(\"Error with url:\", url)\n",
    "    \n",
    "    try:\n",
    "        for phrase in false[0]:\n",
    "            if count == 3:\n",
    "                false_phrase = phrase\n",
    "            count += 1\n",
    "    except:\n",
    "        print('Error with false phrase')\n",
    "        return []\n",
    "    \n",
    "    try:\n",
    "        count = 1\n",
    "        for phrase in true[0]:\n",
    "            if count == 1:\n",
    "                true_phrase = phrase\n",
    "            count += 1\n",
    "    except:\n",
    "        print('Error with true phrase')\n",
    "        return []\n",
    "    \n",
    "    print([false_phrase[1:], true_phrase[13:], article_true_link, date, country])\n",
    "    return [false_phrase[1:], true_phrase[13:], article_true_link, date, country]"
   ]
  },
  {
   "cell_type": "code",
   "execution_count": 69,
   "metadata": {},
   "outputs": [],
   "source": [
    "def get_statements(url):\n",
    "    pages = get_pages(url)\n",
    "    article_page_links = set()\n",
    "    page_count = 1\n",
    "    for page in pages:\n",
    "        print(\"This is page\", page_count)\n",
    "        article_page_links.update(get_article_page_links(page))\n",
    "        page_count += 1\n",
    "    true_false = dict()\n",
    "    link_count = 1\n",
    "    for link in article_page_links:\n",
    "        print(\"This is link\", link_count)\n",
    "        true_false[link] = get_true_false_info(link)\n",
    "        link_count += 1\n",
    "    return true_false"
   ]
  },
  {
   "cell_type": "code",
   "execution_count": 70,
   "metadata": {},
   "outputs": [],
   "source": [
    "def get_false_statements(true_false):\n",
    "    false = []\n",
    "    for statements in true_false.values():\n",
    "        false.append(statements[0])\n",
    "    return false"
   ]
  },
  {
   "cell_type": "code",
   "execution_count": 71,
   "metadata": {},
   "outputs": [],
   "source": [
    "def get_true_statements(true_false):\n",
    "    true = []\n",
    "    for statements in true_false.values():\n",
    "        true.append(statements[1])\n",
    "    return true"
   ]
  },
  {
   "cell_type": "code",
   "execution_count": 72,
   "metadata": {},
   "outputs": [],
   "source": [
    "def save_csv(save_dict, name):\n",
    "    with open(name, 'w') as f:\n",
    "        f.write(\"Date; Country, Article Link; False Statement; True Statement;\\n\")\n",
    "        for key in save_dict.keys():\n",
    "            f.write(\"%s; %s; %s; %s; %s\\n\" % (save_dict[key][3], save_dict[key][4], save_dict[key][2], save_dict[key][0], save_dict[key][1]))"
   ]
  },
  {
   "cell_type": "code",
   "execution_count": 73,
   "metadata": {},
   "outputs": [
    {
     "name": "stdout",
     "output_type": "stream",
     "text": [
      "This is page 1\n",
      "This is link 1\n",
      "['Covid-19 masks are dangerous and the obligation to wear them is a crime against humanity\\t\\t', 'Covid-19 face masks are safe and there is no crime against humanity in wearing them', 'https://facta.news/notizia-falsa/2021/03/01/le-mascherine-funzionano-non-fanno-solo-male-ne-sono-un-crimine/', '2021/03/01', 'Italy']\n",
      "This is link 2\n",
      "['A message on COVID-19 vaccine registrations for the elderly through the Covid Vaccine Intelligence Work app (Co-WIN) is being circulated on Whatsapp. It includes the steps that are involved in registering for the vaccine including PAN and SMS confirmation.\\t\\t', 'The Whatsapp message which claims that the inoculation registration on the Co-WIN App will open in February for citizens aged above 50 is false.', 'https://newschecker.in/fact-check/whatsapp-message-on-covid-19-vaccine-registration-for-elderly-on-co-win-is-false', '2021/02/25', 'India']\n",
      "This is link 3\n",
      "['News from the newspaper ‘El País’ in the year 2003 about the current COVID-19 pandemic\\t\\t', 'The news refers to another coronavirus, the SARS-Cov virus, the first cases of which were reported in February 2003.', 'https://maldita.es/malditobulo/20210226/noticia-el-pais-ano-2003-relacion-actual-pandemia-covid-19/', '2021/02/26', 'Spain']\n",
      "This is link 4\n",
      "['We have been vaccinating for two months with a vaccine against COVID-19 that has not been tested in humans.\\t\\t', 'The vaccines currently in distribution have been approved after showing their safety and effectiveness in clinical trials involving tens of thousands of people.', 'https://www.newtral.es/victoria-abril-pandemia-afirmaciones-falsas-bulo/20210226/', '2021/02/26', 'Spain']\n",
      "This is link 5\n",
      "['World Health Organization (WHO) approved Coronil, an Indian herbal medication, as a Covid-19 treatment.\\t\\t', 'While Coronil was approved as a Covid-19 treatment by Indian government regulators, it has not been certified as a coronavirus treatment by the WHO as of February 26, 2021.', 'https://factcheck.afp.com/indian-social-media-posts-media-reports-falsely-claim-who-approved-herbal-medicine-covid-19', '2021/02/26', 'India']\n",
      "This is link 6\n",
      "['The Corona Virus vaccine “can leave you sterile,” according to Argentine actor Marcelo Mazzarello\\t\\t', 'The actor Marcelo Mazzarello assured this on Twitter and based his statements on the false statements of doctor Luis Martínez, a member of the group \"Doctors for Truth.\" However, the RNA vaccines that Martínez denounces have no effect on the nucleus of the cell where the genome is located and, therefore, cannot interfere with it to generate infertility.', 'https://chequeado.com/verificacionfb/es-falso-que-la-vacuna-contra-el-coronavirus-te-puede-dejar-esteril/', '2021/02/26', 'Argentina']\n",
      "This is link 7\n",
      "['The Province of Buenos Aires (Argentina) has already finished vaccinating all its health personnel\\t\\t', 'The misinformation arose from a tweet by the director of Banco Ciudad, Delfina Rossi, on February 22. Although Rossi did not clarify which population he was referring to in his tweet (if the total or only the workers who signed up to receive Sputnik V), the provincial Ministry of Health has not yet vaccinated even 100% of the workers who are they enrolled.', 'https://chequeado.com/verificacionfb/es-falso-que-la-provincia-de-buenos-aires-ya-termino-de-vacunar-a-todo-su-personal-de-salud/', '2021/02/26', 'Argentina']\n",
      "This is link 8\n",
      "['Vaccines cause 600 new cases of eye disease and leave 5 people blind, according to the UK Government\\t\\t', 'According to the agency, these reports should not be interpreted as proven side effects of immunizers. In addition, no case of blindness has been reported in clinical trials of vaccines administered in the country.', 'https://www.aosfatos.org/noticias/posts-tiram-dados-de-contexto-ao-vincular-vacinas-doencas-oculares-no-reino-unido/', '2021/02/25', 'Brazil']\n",
      "This is link 9\n",
      "['Photo of protests in Romania against globalist restrictions\\t\\t', 'The photo has been circulating since February 2017, years before the SARS-CoV-2 coronavirus was discovered.', 'https://maldita.es/malditobulo/20210225/foto-multitud-protestas-restricciones-Rumania-covid-19/', '2021/02/25', 'Spain']\n",
      "This is link 10\n",
      "['Pfizer, Moderna and Astrazeneca are handing out flyers against Covid-19 vaccine\\t\\t', 'The flyers are fake', 'https://facta.news/notizia-falsa/2021/02/26/questi-volantini-con-il-logo-delle-case-farmaceutiche-e-argomentazioni-no-vax-sono-falsi/', '2021/02/26', 'Italy']\n",
      "This is link 11\n",
      "['The Argentine Vice President, Cristina Fernández de Kirchner, was “multi-vaccinated” against the coronavirus, as shown in these three images\\t\\t', 'One of the images corresponds to the flu vaccination campaign in 2013 and was taken at the Casa Rosada when she was President of the Nation. Another of the photographs was captured in 2014 while she was vaccinated by the staff of the Presidential Medical Unit as part of the influenza vaccination campaign. The last of the images does correspond to the vaccination against COVID-19 when he received the first dose of Sputnik V at the President Perón de Avellaneda Hospital on January 24.', 'https://chequeado.com/verificacionfb/es-falso-que-cristina-fernandez-de-kirchner-fue-multivacunada-contra-el-coronavirus/', '2021/02/28', 'Argentina']\n",
      "This is link 12\n",
      "['UNSAM’s coronavirus vaccine investigation is about to start phase III\\t\\t', 'Circulates on Facebook -and the Télam agency published and later deleted- a title stating that \"an Argentine vaccine is ready to start phase III\" in reference to the development that is being carried out at the National University of San Martín (UNSAM) . However, the development of this vaccine is about to start phase I, not phase III. UNSAM has an agreement with a company to start production under manufacturing conditions approved by ANMAT and thus be able to start human tests.', 'https://chequeado.com/verificacionfb/es-falso-que-la-investigacion-de-la-vacuna-contra-el-coronavirus-de-la-unsam-esta-por-iniciar-la-fase-iii/', '2021/02/25', 'Argentina']\n",
      "This is link 13\n",
      "['Fernando Simón, director of the Center for the Coordination of Health Alerts and Emergencies of the Spanish Ministry of Health, has recognized that deaths from other causes are included as if they were from COVID-19\\t\\t', 'The claim uses statements by Fernando Simón, the director of the Center for the Coordination of Health Alerts and Emergencies (CCAES), on the excess of total mortality in Spain from all causes, not on the mortality of the coronavirus.', 'https://maldita.es/malditobulo/20210226/fernando-simon-ha-reconocido-que-se-incluyen-fallecidos-por-otras-causas-como-covid-19/', '2021/02/26', 'Spain']\n",
      "This is link 14\n",
      "['Thousands of people demonstrate in Romania against health measures\\t\\t', 'The photograph corresponds to protests held in February 2017.', 'https://www.newtral.es/bulo-protesta-rumania-medidas-sanitarias-es-de-2017/20210301/', '2021/03/01', 'Spain, Romaina']\n",
      "This is link 15\n",
      "['Thanks to Anthony Fauci, Judy A. Mikovits has been arrested in 2021\\t\\t', \"Judy A. Mikovits hasn't been arrested in 2021.  Judy A. Mikovits has been arrested in 2011 and  Anthony Fauci was not involved.\", 'https://facta.news/notizia-falsa/2021/02/26/no-anthony-fauci-non-ha-fatto-arrestare-la-ricercatrice-al-centro-del-video-complottista-plandemic/', '2021/02/26', 'Italy, United States']\n"
     ]
    }
   ],
   "source": [
    "if __name__ == \"__main__\":\n",
    "    home_page_url = 'https://www.poynter.org/ifcn-covid-19-misinformation/'\n",
    "    statement_dict = get_statements(home_page_url)\n",
    "    save_csv(statement_dict, \"test.csv\")"
   ]
  },
  {
   "cell_type": "code",
   "execution_count": null,
   "metadata": {},
   "outputs": [],
   "source": []
  },
  {
   "cell_type": "code",
   "execution_count": null,
   "metadata": {},
   "outputs": [],
   "source": []
  },
  {
   "cell_type": "code",
   "execution_count": null,
   "metadata": {},
   "outputs": [],
   "source": []
  },
  {
   "cell_type": "code",
   "execution_count": null,
   "metadata": {},
   "outputs": [],
   "source": []
  }
 ],
 "metadata": {
  "kernelspec": {
   "display_name": "Python 3",
   "language": "python",
   "name": "python3"
  },
  "language_info": {
   "codemirror_mode": {
    "name": "ipython",
    "version": 3
   },
   "file_extension": ".py",
   "mimetype": "text/x-python",
   "name": "python",
   "nbconvert_exporter": "python",
   "pygments_lexer": "ipython3",
   "version": "3.8.5"
  }
 },
 "nbformat": 4,
 "nbformat_minor": 4
}
